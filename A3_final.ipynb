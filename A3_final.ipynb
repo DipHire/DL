{
 "cells": [
  {
   "cell_type": "markdown",
   "id": "4e538440",
   "metadata": {},
   "source": [
    "Build the Image classification model by dividing the model into following 4 stages:\n",
    "\n",
    "a. Loading and preprocessing the image data\n",
    "\n",
    "b. Defining the model’s architecture\n",
    "\n",
    "c. Training the model\n",
    "\n",
    "d. Estimating the model’s performance"
   ]
  },
  {
   "cell_type": "code",
   "execution_count": 1,
   "id": "97374650",
   "metadata": {},
   "outputs": [],
   "source": [
    "import tensorflow as tf\n",
    "from keras.models import Sequential\n",
    "import matplotlib.pyplot as plt\n",
    "import numpy as np\n",
    "from keras.layers import Dense, Conv2D, Flatten, Dropout, MaxPooling2D\n"
   ]
  },
  {
   "cell_type": "code",
   "execution_count": 2,
   "id": "3cccb569",
   "metadata": {},
   "outputs": [],
   "source": [
    "mnist=tf.keras.datasets.mnist"
   ]
  },
  {
   "cell_type": "code",
   "execution_count": 3,
   "id": "4f254ee6",
   "metadata": {},
   "outputs": [],
   "source": [
    "(xtrain,ytrain),(xtest,ytest)=mnist.load_data()\n",
    "input_shape=(28,28,1)"
   ]
  },
  {
   "cell_type": "markdown",
   "id": "f644db0c",
   "metadata": {},
   "source": [
    "## Reshaping the data to comply with the input shape requirement of a Convolutional Neural Network (CNN"
   ]
  },
  {
   "cell_type": "code",
   "execution_count": 4,
   "id": "c3f0fd6f",
   "metadata": {},
   "outputs": [],
   "source": [
    "xtrain = xtrain.reshape(xtrain.shape[0], 28,28, 1)\n",
    "xtest = xtest.reshape(xtest.shape[0], 28, 28,1)\n",
    "\n",
    "xtrain=xtrain.astype('float32')\n",
    "xtest=xtest.astype('float32')\n",
    "\n",
    "xtrain=xtrain/255\n",
    "xtest=xtest/255"
   ]
  },
  {
   "cell_type": "code",
   "execution_count": 5,
   "id": "76056aa8",
   "metadata": {},
   "outputs": [],
   "source": [
    "model=Sequential()\n",
    "\n",
    "model.add(Conv2D(28,kernel_size=(3,3),input_shape=(28,28,1)))\n",
    "\n",
    "model.add(MaxPooling2D(pool_size=(2,2)))\n",
    "\n",
    "model.add(Flatten())#Flattens the output from the previous layer to a 1D array\n",
    "\n",
    "model.add(Dense(15,activation='relu'))\n",
    "\n",
    "model.add(Dropout(0.3))\n",
    "#Dropout is a regularization technique that helps prevent overfitting\n",
    "#by randomly setting a fraction of input units to 0 at each update during training. \n",
    "#Here, it applies a dropout rate of 30%.\n",
    "\n",
    "model.add(Dense(20,activation='softmax'))\n",
    "\n",
    "\n",
    "#model architecture described by the provided code consists of \n",
    "#a single convolutional layer followed by max pooling, \n",
    "#flattening,\n",
    "#two dense layers (with dropout regularization), \n",
    "#and a final output layer for classification."
   ]
  },
  {
   "cell_type": "code",
   "execution_count": 6,
   "id": "f2171a4d",
   "metadata": {},
   "outputs": [
    {
     "name": "stdout",
     "output_type": "stream",
     "text": [
      "Model: \"sequential\"\n",
      "_________________________________________________________________\n",
      " Layer (type)                Output Shape              Param #   \n",
      "=================================================================\n",
      " conv2d (Conv2D)             (None, 26, 26, 28)        280       \n",
      "                                                                 \n",
      " max_pooling2d (MaxPooling2D  (None, 13, 13, 28)       0         \n",
      " )                                                               \n",
      "                                                                 \n",
      " flatten (Flatten)           (None, 4732)              0         \n",
      "                                                                 \n",
      " dense (Dense)               (None, 15)                70995     \n",
      "                                                                 \n",
      " dropout (Dropout)           (None, 15)                0         \n",
      "                                                                 \n",
      " dense_1 (Dense)             (None, 20)                320       \n",
      "                                                                 \n",
      "=================================================================\n",
      "Total params: 71,595\n",
      "Trainable params: 71,595\n",
      "Non-trainable params: 0\n",
      "_________________________________________________________________\n"
     ]
    }
   ],
   "source": [
    "model.summary()\n",
    "\n",
    "#The summary will provide a clearer picture of the model's structure \n",
    "#and the number of parameters associated with each layer, \n",
    "#helping you understand the model's complexity and resource requirements."
   ]
  },
  {
   "cell_type": "code",
   "execution_count": 7,
   "id": "38c1b9c9",
   "metadata": {},
   "outputs": [],
   "source": [
    "model.compile(optimizer='adam',loss='sparse_categorical_crossentropy',metrics=['accuracy'])\n",
    "#configuring the model for training"
   ]
  },
  {
   "cell_type": "code",
   "execution_count": 8,
   "id": "78ab56b8",
   "metadata": {},
   "outputs": [
    {
     "name": "stderr",
     "output_type": "stream",
     "text": [
      "2023-11-06 10:07:27.538390: W tensorflow/tsl/platform/profile_utils/cpu_utils.cc:128] Failed to get CPU frequency: 0 Hz\n"
     ]
    },
    {
     "name": "stdout",
     "output_type": "stream",
     "text": [
      "1875/1875 [==============================] - 9s 4ms/step - loss: 0.6638 - accuracy: 0.7935\n"
     ]
    },
    {
     "data": {
      "text/plain": [
       "<keras.callbacks.History at 0x151009f10>"
      ]
     },
     "execution_count": 8,
     "metadata": {},
     "output_type": "execute_result"
    }
   ],
   "source": [
    "model.fit(xtrain,ytrain,epochs=1)\n",
    "\n",
    "#model.fit() function is used to train the compiled model with the given training data. \n",
    "#the model is trained for a specified number of epochs,"
   ]
  },
  {
   "cell_type": "code",
   "execution_count": 9,
   "id": "04934896",
   "metadata": {},
   "outputs": [
    {
     "name": "stdout",
     "output_type": "stream",
     "text": [
      "313/313 [==============================] - 1s 1ms/step - loss: 0.1744 - accuracy: 0.9468\n",
      "loss: 0.9467999935150146\n",
      "accuracy: 0.17438814043998718\n"
     ]
    }
   ],
   "source": [
    "#function to assess the trained model's performance on the test data.\n",
    "\n",
    "test_acc,test_loss=model.evaluate(xtest,ytest)\n",
    "print('loss:',test_loss)\n",
    "print('accuracy:',test_acc)"
   ]
  },
  {
   "cell_type": "code",
   "execution_count": 10,
   "id": "d24bafe7",
   "metadata": {},
   "outputs": [
    {
     "data": {
      "image/png": "[encoded data removed]",
      "text/plain": [
       "<Figure size 640x480 with 1 Axes>"
      ]
     },
     "metadata": {},
     "output_type": "display_data"
    }
   ],
   "source": [
    "#visualizing an image from the training dataset (xtrain). \n",
    "\n",
    "image = xtrain[4]\n",
    "plt.imshow(np.squeeze(image), cmap='gray')\n",
    "plt.show()"
   ]
  },
  {
   "cell_type": "code",
   "execution_count": 11,
   "id": "51de678c",
   "metadata": {},
   "outputs": [
    {
     "name": "stdout",
     "output_type": "stream",
     "text": [
      "1/1 [==============================] - 0s 69ms/step\n",
      "Predicted class: 9\n"
     ]
    }
   ],
   "source": [
    "#using the trained model to make predictions on a single image.\n",
    "#It takes the image from the training dataset, reshapes it to comply with the model's input shape, \n",
    "#and then uses the trained model to predict the class of the image.\n",
    "\n",
    "\n",
    "image = image.reshape(1, image.shape[0], image.shape[1], image.shape[2])\n",
    "predict_model = model.predict([image])\n",
    "print(\"Predicted class: {}\".format(np.argmax(predict_model)))"
   ]
  },
  {
   "cell_type": "code",
   "execution_count": null,
   "id": "0fed4eab",
   "metadata": {},
   "outputs": [],
   "source": []
  }
 ],
 "metadata": {
  "kernelspec": {
   "display_name": "Python 3 (ipykernel)",
   "language": "python",
   "name": "python3"
  },
  "language_info": {
   "codemirror_mode": {
    "name": "ipython",
    "version": 3
   },
   "file_extension": ".py",
   "mimetype": "text/x-python",
   "name": "python",
   "nbconvert_exporter": "python",
   "pygments_lexer": "ipython3",
   "version": "3.8.18"
  }
 },
 "nbformat": 4,
 "nbformat_minor": 5
}
